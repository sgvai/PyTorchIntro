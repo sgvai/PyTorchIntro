{
 "cells": [
  {
   "cell_type": "code",
   "execution_count": null,
   "metadata": {},
   "outputs": [],
   "source": [
    "# Based off of https://medium.com/@athul929/hand-written-digit-classifier-in-pytorch-42a53e92b63e\n",
    "# Which appears may have been itself based on\n",
    "# https://github.com/yunjey/pytorch-tutorial/blob/master/tutorials/01-basics/feedforward_neural_network/main.py"
   ]
  },
  {
   "cell_type": "code",
   "execution_count": null,
   "metadata": {},
   "outputs": [],
   "source": [
    "import torch\n",
    "import torch.nn as nn\n",
    "import torchvision\n",
    "import matplotlib.pyplot as plt\n",
    "import numpy as np"
   ]
  },
  {
   "cell_type": "code",
   "execution_count": null,
   "metadata": {},
   "outputs": [],
   "source": [
    "# Device configuration\n",
    "device = torch.device('cuda' if torch.cuda.is_available() else 'cpu')"
   ]
  },
  {
   "cell_type": "code",
   "execution_count": null,
   "metadata": {},
   "outputs": [],
   "source": [
    "# hyper parameters\n",
    "num_epochs = 5\n",
    "batch_size = 100\n",
    "\n",
    "# Selected because a 28x28 pixel image is 784 pixels\n",
    "input_size = 784\n",
    "# Arbitrary number of intermediate nodes\n",
    "hidden_size = 500\n",
    "# Selected so the output corresponds to a digit 0-9.\n",
    "output_size = 10\n",
    "\n",
    "learning_rate = 0.001"
   ]
  },
  {
   "cell_type": "code",
   "execution_count": null,
   "metadata": {},
   "outputs": [],
   "source": [
    "# torchvision supplies a number of standard datasets\n",
    "\n",
    "# MNIST is handwritten numeric digits image data set.\n",
    "# 60000 training images and 10000 test images. \n",
    "# http://yann.lecun.com/exdb/mnist/\n",
    "\n",
    "train_dataset = torchvision.datasets.MNIST(root='./data', \n",
    "                                           train=True, \n",
    "                                           transform=torchvision.transforms.ToTensor(), \n",
    "                                           download=True)\n",
    "test_dataset = torchvision.datasets.MNIST(root='./data', \n",
    "                                          train=False, \n",
    "                                          transform=torchvision.transforms.ToTensor())\n",
    "\n",
    "# Data Loaders sample from dataset\n",
    "train_loader = torch.utils.data.DataLoader(dataset=train_dataset, \n",
    "                                           batch_size=batch_size, \n",
    "                                           shuffle=True)\n",
    "test_loader = torch.utils.data.DataLoader(dataset=test_dataset,\n",
    "                                          batch_size=batch_size,\n",
    "                                          shuffle=False)"
   ]
  },
  {
   "cell_type": "code",
   "execution_count": null,
   "metadata": {},
   "outputs": [],
   "source": [
    "# Define Model.\n",
    "# Note how structure relationship between the layers\n",
    "# is not defined statically ahead of time but dynamically\n",
    "# in the forward step.\n",
    "class NeuralNet(nn.Module):\n",
    "    \"\"\"A Neural Network with a hidden layer\"\"\"\n",
    "    def __init__(self, input_size, hidden_size, output_size):\n",
    "        super(NeuralNet, self).__init__()\n",
    "        self.layer1 = nn.Linear(input_size, hidden_size)\n",
    "        self.layer2 = nn.Linear(hidden_size, output_size)\n",
    "        self.relu = nn.ReLU()\n",
    "\n",
    "    def forward(self, x):\n",
    "        output = self.layer1(x)\n",
    "        output = self.relu(output)\n",
    "        output = self.layer2(output)\n",
    "        return output"
   ]
  },
  {
   "cell_type": "code",
   "execution_count": null,
   "metadata": {},
   "outputs": [],
   "source": [
    "# Instantiate module with appropriate hyper parameters\n",
    "model = NeuralNet(input_size, hidden_size, output_size)\n",
    "\n",
    "# Loss Function connected to model during training.\n",
    "# https://www.cse.unsw.edu.au/~billw/cs9444/crossentropy.html\n",
    "lossFunction = nn.CrossEntropyLoss()\n",
    "\n",
    "# Connect Adam gradient descent optimizer to model\n",
    "# https://machinelearningmastery.com/adam-optimization-algorithm-for-deep-learning/\n",
    "optimizer = torch.optim.Adam(model.parameters(), lr=learning_rate)"
   ]
  },
  {
   "cell_type": "code",
   "execution_count": null,
   "metadata": {},
   "outputs": [],
   "source": [
    "def show(img):\n",
    "    # Reshape image to 2-dimensional square in case we pass 1-dimensional data.\n",
    "    img = img.reshape((28,28))\n",
    "    plt.imshow(img)\n",
    "    plt.show()\n",
    "\n",
    "def show_grid(images):\n",
    "    # 10 images per row rather than default of 8 better for 100 images block\n",
    "    grid = torchvision.utils.make_grid(images, 10)\n",
    "    plt.imshow(grid[0])\n",
    "    plt.show()"
   ]
  },
  {
   "cell_type": "code",
   "execution_count": null,
   "metadata": {},
   "outputs": [],
   "source": [
    "# Do training\n",
    "total_step = len(train_loader)\n",
    "for epoch in range(num_epochs):\n",
    "    for i, (images, labels) in enumerate(train_loader):\n",
    "        # Show sample of what labels looks like\n",
    "        if i == 0 and epoch == 0:\n",
    "            print(labels)\n",
    "        \n",
    "        # Show data sets being trained over\n",
    "        if i == 0:\n",
    "            show_grid(images)\n",
    "        \n",
    "        # Image data needs to be flattened to feed to the NN.\n",
    "        images = images.reshape(-1, 28*28)\n",
    "        out = model(images)\n",
    "        loss = lossFunction(out, labels)\n",
    "\n",
    "        # Zero the optimizer before training.\n",
    "        optimizer.zero_grad()\n",
    "        loss.backward()\n",
    "        optimizer.step()\n",
    "\n",
    "        if (i+1) % 100 == 0:\n",
    "            print('Epoch [{}/{}], Step [{}/{}], Loss: {:.4f}' .format(epoch+1, num_epochs, i+1, total_step, loss.item()))"
   ]
  },
  {
   "cell_type": "code",
   "execution_count": null,
   "metadata": {},
   "outputs": [],
   "source": [
    "# Test trained network\n",
    "\n",
    "# Locally disable gradient computation\n",
    "with torch.no_grad():\n",
    "    correct = 0\n",
    "    total = 0\n",
    "    for images,labels in test_loader:\n",
    "        orig = images.clone()  # save image data for visualization convenience\n",
    "\n",
    "        # Run the model on flattened image\n",
    "        images = images.reshape(-1,28*28)\n",
    "        out = model(images)\n",
    "        \n",
    "        # Convert each output vector to prediction by getting vector index of max value\n",
    "        _,predicted = torch.max(out.data,1)\n",
    "        \n",
    "        # Update accuracy stats\n",
    "        total += labels.size(0)\n",
    "        correct += (predicted==labels).sum().item()\n",
    "        \n",
    "        # Visualize errors\n",
    "        if (predicted!=labels).sum().item() > 0:\n",
    "            errors = predicted != labels\n",
    "            show_grid(orig[errors])\n",
    "            print(\"Predicted: \", predicted[errors])\n",
    "            print(\"Actual: \", labels[errors])\n",
    "        \n",
    "                \n",
    "    print('Accuracy of the network on the 10000 test images: {} %'.format(100 * correct / total))"
   ]
  }
 ],
 "metadata": {
  "kernelspec": {
   "display_name": "Python 3",
   "language": "python",
   "name": "python3"
  },
  "language_info": {
   "codemirror_mode": {
    "name": "ipython",
    "version": 3
   },
   "file_extension": ".py",
   "mimetype": "text/x-python",
   "name": "python",
   "nbconvert_exporter": "python",
   "pygments_lexer": "ipython3",
   "version": "3.6.5"
  }
 },
 "nbformat": 4,
 "nbformat_minor": 2
}
